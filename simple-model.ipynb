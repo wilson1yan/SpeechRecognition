{
 "cells": [
  {
   "cell_type": "code",
   "execution_count": 1,
   "metadata": {
    "collapsed": true
   },
   "outputs": [],
   "source": [
    "import glob\n",
    "import random\n",
    "import os\n",
    "import pickle\n",
    "\n",
    "from scipy.io import wavfile\n",
    "from scipy import signal\n",
    "import numpy as np\n",
    "import matplotlib.pyplot as plt\n",
    "\n",
    "import torch\n",
    "import torch.nn.functional as F\n",
    "from torch import nn\n",
    "from torch import optim\n",
    "from torch.autograd import Variable\n",
    "from torch.utils.data import Dataset, DataLoader\n",
    "\n",
    "%matplotlib inline"
   ]
  },
  {
   "cell_type": "code",
   "execution_count": 2,
   "metadata": {},
   "outputs": [],
   "source": [
    "with open('bad_wav_files', 'rb') as f:\n",
    "    bad_wav_files = pickle.load(f)"
   ]
  },
  {
   "cell_type": "code",
   "execution_count": 3,
   "metadata": {
    "collapsed": true
   },
   "outputs": [],
   "source": [
    "ROOT = '/home/wilsonyan/data/speech'"
   ]
  },
  {
   "cell_type": "code",
   "execution_count": 4,
   "metadata": {
    "collapsed": true
   },
   "outputs": [],
   "source": [
    "class GoogleVoiceDataset(Dataset):\n",
    "    def __init__(self, root, preprocessor, mode='train', window_size=0.02):\n",
    "        super(GoogleVoiceDataset, self).__init__()\n",
    "        self.root = root\n",
    "        self.window_size = window_size\n",
    "        \n",
    "        with open(os.path.join(root, 'validation_list.txt'), 'r') as f:\n",
    "            self.valset = f.read().split('\\n')\n",
    "        with open(os.path.join(root, 'testing_list.txt'), 'r') as f:\n",
    "            self.testset = f.read().split('\\n')\n",
    "        other = set(['/home/wilsonyan/data/speech/_background_noise_/white_noise.wav',\n",
    " '/home/wilsonyan/data/speech/_background_noise_/pink_noise.wav'])\n",
    "        self.trainset = set(glob.glob(os.path.join(root, '*', '**.wav'), recursive=True))\n",
    "        self.trainset = self.trainset - set(self.valset) - set(self.testset) - bad_wav_files - other\n",
    "        self.trainset = list(self.trainset)\n",
    "        self.set_mode(mode)\n",
    "        \n",
    "        self.preprocessor = preprocessor\n",
    "        self.label_id_map = {label: i for i, label in enumerate(self.get_labels())}\n",
    "        self.id_label_map = {v: k for k, v in self.label_id_map.items()}\n",
    "        self.n_classes = len(self.label_id_map)\n",
    "    \n",
    "    def set_mode(self, mode):\n",
    "        if mode == 'train':\n",
    "            self.currentset = self.trainset\n",
    "        elif mode == 'val':\n",
    "            self.currentset = self.valset\n",
    "        elif mode == 'test':\n",
    "            self.currentset = self.testset\n",
    "        else:\n",
    "            raise ValueError('mode must be train, val, or test')\n",
    "        self.mode = mode\n",
    "        \n",
    "    def get_labels(self):\n",
    "        files = os.listdir(self.root)\n",
    "        return [file for file in files if os.path.isdir(os.path.join(self.root, file))]\n",
    "    \n",
    "    def get_parent_dir(self, filepath):\n",
    "        return filepath.split('/')[-2]\n",
    "    \n",
    "    def __len__(self):\n",
    "        return len(self.currentset)\n",
    "    \n",
    "    def __getitem__(self, index):\n",
    "        if index >= len(self):\n",
    "            raise IndexError('index: %s out of bounds for size %s' % (index, len(self)))\n",
    "        fname = self.currentset[index]\n",
    "        label = self.get_parent_dir(fname)\n",
    "        rate, data = wavfile.read(fname)\n",
    "        \n",
    "        x = torch.FloatTensor(self.preprocessor(data, rate, self.window_size).astype(float))\n",
    "        y = self.label_id_map[label]\n",
    "        return x, y"
   ]
  },
  {
   "cell_type": "code",
   "execution_count": 5,
   "metadata": {
    "collapsed": true
   },
   "outputs": [],
   "source": [
    "class RNN(nn.Module):\n",
    "    def __init__(self, input_size, hidden_size, n_classes):\n",
    "        super(RNN, self).__init__()\n",
    "        self.input_size = input_size\n",
    "        self.hidden_size = hidden_size\n",
    "        self.n_classes = n_classes\n",
    "        self.gru = nn.GRU(input_size, hidden_size, batch_first=True)\n",
    "        self.classifier = nn.Sequential(\n",
    "            nn.Linear(hidden_size, 512),\n",
    "            nn.ReLU(),\n",
    "            nn.Linear(512, 512),\n",
    "            nn.ReLU(),\n",
    "            nn.Linear(512, n_classes)\n",
    "        )\n",
    "    \n",
    "    def forward(self, x):\n",
    "        batch_size, n_seq, seq_len = x.size() # batch_size x 50 x 320\n",
    "        hidden_state = Variable(torch.zeros(batch_size, 1, self.hidden_size))\n",
    "        hidden_state = self.gru(x, hidden_state)[1]\n",
    "        return self.classifier(hidden_state.squeeze(0))          "
   ]
  },
  {
   "cell_type": "code",
   "execution_count": 6,
   "metadata": {
    "collapsed": true
   },
   "outputs": [],
   "source": [
    "def get_set_accuracy(model, loader):\n",
    "    correct = 0\n",
    "    for x, y in enumerate(iter(loader)):\n",
    "        x, y = Variable(x), Variable(y)\n",
    "        score = model(x)\n",
    "        _, y_pred = torch.max(score, 1)\n",
    "        correct += y_pred.eq(y).sum()\n",
    "    return correct / len(dset_test)"
   ]
  },
  {
   "cell_type": "code",
   "execution_count": 7,
   "metadata": {
    "collapsed": true
   },
   "outputs": [],
   "source": [
    "def train_model(model, optimizer, criterion, loader_train, loader_val, num_epochs=100):\n",
    "    for epoch in range(num_epochs):\n",
    "        print('Epoch %s' % epoch)\n",
    "        print('=' * 40)\n",
    "        \n",
    "        losses = []\n",
    "        correct_train, total = 0, 0\n",
    "        for x, y in iter(loader_train):\n",
    "            x, y = Variable(x), Variable(y)\n",
    "            score = model(x)\n",
    "            _, y_pred = torch.max(score, 1)\n",
    "            correct_train += y_pred.eq(y).sum()\n",
    "            total += x.data.size(0)\n",
    "            loss = criterion(score, y)\n",
    "            optimizer.zero_grad()\n",
    "            loss.backward()\n",
    "            optimizer.step()\n",
    "            losses.append(loss.data[0])\n",
    "\n",
    "        train_acc = correct_train.data[0] / total\n",
    "#         val_acc = get_set_accuracy(model, loader_val)\n",
    "        print('Loss: %s, train_acc: %s' % (np.mean(losses), train_acc))\n",
    "    return model"
   ]
  },
  {
   "cell_type": "code",
   "execution_count": 8,
   "metadata": {
    "collapsed": true
   },
   "outputs": [],
   "source": [
    "def partition_sequence(sequence, rate, window_size):\n",
    "    if len(sequence) < 16000:\n",
    "        sequence = np.append(sequence, [0] * (16000 - len(sequence)))\n",
    "    \n",
    "    time_len = len(sequence) / rate\n",
    "    partition_len, partitions = int(rate * window_size), []\n",
    "    for i in range(0, len(sequence), partition_len):\n",
    "        start, end = i, min(i + partition_len, len(sequence))\n",
    "        partitions.append(sequence[start:end])\n",
    "    return np.vstack(partitions)"
   ]
  },
  {
   "cell_type": "code",
   "execution_count": 9,
   "metadata": {
    "collapsed": true
   },
   "outputs": [],
   "source": [
    "BATCH_SIZE = 128"
   ]
  },
  {
   "cell_type": "code",
   "execution_count": 10,
   "metadata": {},
   "outputs": [],
   "source": [
    "dset_train = GoogleVoiceDataset(ROOT, partition_sequence, mode='train')\n",
    "dset_val = GoogleVoiceDataset(ROOT, partition_sequence, mode='val')\n",
    "loader_train = DataLoader(dset_train, shuffle=True, batch_size=BATCH_SIZE)\n",
    "loader_val = DataLoader(dset_val, shuffle=True, batch_size=BATCH_SIZE)"
   ]
  },
  {
   "cell_type": "code",
   "execution_count": null,
   "metadata": {
    "collapsed": true
   },
   "outputs": [],
   "source": [
    "model = RNN(320, 256, dset_train.n_classes)\n",
    "optimizer = optim.Adam(model.parameters())\n",
    "criterion = nn.CrossEntropyLoss()"
   ]
  },
  {
   "cell_type": "code",
   "execution_count": null,
   "metadata": {},
   "outputs": [
    {
     "name": "stdout",
     "output_type": "stream",
     "text": [
      "Epoch 0\n",
      "========================================\n"
     ]
    }
   ],
   "source": [
    "model = train_model(model, optimizer, criterion, loader_train, loader_val)"
   ]
  },
  {
   "cell_type": "code",
   "execution_count": null,
   "metadata": {
    "collapsed": true
   },
   "outputs": [],
   "source": [
    "# dset_test = GoogleVoiceDataset(ROOT, partition_sequence, mode='test')\n",
    "# loader_test = DataLoader(dset_val, shuffle=True, batch_size=BATCH_SIZE)\n",
    "# print('test_acc: %s' % (get_set_accuracy(model, loader_test)))"
   ]
  }
 ],
 "metadata": {
  "kernelspec": {
   "display_name": "Python 3",
   "language": "python",
   "name": "python3"
  },
  "language_info": {
   "codemirror_mode": {
    "name": "ipython",
    "version": 3
   },
   "file_extension": ".py",
   "mimetype": "text/x-python",
   "name": "python",
   "nbconvert_exporter": "python",
   "pygments_lexer": "ipython3",
   "version": "3.6.1"
  }
 },
 "nbformat": 4,
 "nbformat_minor": 2
}
