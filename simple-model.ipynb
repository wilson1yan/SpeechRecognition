{
 "cells": [
  {
   "cell_type": "code",
   "execution_count": null,
   "metadata": {},
   "outputs": [],
   "source": [
    "from datetime import datetime\n",
    "import logging\n",
    "\n",
    "from tqdm import tqdm\n",
    "import torch\n",
    "import torch.nn as nn\n",
    "import torch.optim as optim\n",
    "from torch.autograd import Variable\n",
    "from torch.utils.data import DataLoader\n",
    "\n",
    "from dset import GoogleVoiceDataset\n",
    "from model import RNN\n",
    "from eval import get_set_accuracy\n",
    "from preprocess import mfcc_sequence"
   ]
  },
  {
   "cell_type": "code",
   "execution_count": null,
   "metadata": {
    "collapsed": true
   },
   "outputs": [],
   "source": [
    "ROOT = '/home/wilsonyan/data/speech'"
   ]
  },
  {
   "cell_type": "code",
   "execution_count": null,
   "metadata": {
    "collapsed": true
   },
   "outputs": [],
   "source": [
    "BATCH_SIZE = 128"
   ]
  },
  {
   "cell_type": "code",
   "execution_count": null,
   "metadata": {
    "collapsed": true
   },
   "outputs": [],
   "source": [
    "def train_model(model, optimizer, criterion, loader_train, loader_val, num_epochs=100):\n",
    "    log_file = 'logs/{}.log'.format(datetime.now().strftime('%Y%m%d-%H%M%S'))\n",
    "    logging.basicConfig(filename=log_file,level=logging.DEBUG)\n",
    "    for epoch in range(num_epochs):\n",
    "        print('Epoch %s' % epoch)\n",
    "        print('=' * 40)\n",
    "        \n",
    "        logging.info('Epoch %s' % epoch)\n",
    "        logging.info('=' * 40)\n",
    "        \n",
    "        losses = []\n",
    "        correct_train, total = 0, 0\n",
    "        for x, y in tqdm(iter(loader_train)):\n",
    "            x, y = Variable(x), Variable(y)\n",
    "            score = model(x)\n",
    "            _, y_pred = torch.max(score, 1)\n",
    "            correct_train += y_pred.eq(y).sum().data[0]\n",
    "            total += x.data.size(0)\n",
    "\n",
    "            loss = criterion(score, y)\n",
    "            optimizer.zero_grad()\n",
    "            loss.backward()\n",
    "            optimizer.step()\n",
    "            losses.append(loss.data[0])\n",
    "\n",
    "        train_acc = correct_train / total\n",
    "        val_acc = get_set_accuracy(model, loader_val)\n",
    "        print('Loss: %s, train_acc: %s, val_acc: %s' % (np.mean(losses), train_acc, val_acc))\n",
    "        logging.info('Loss: %s, train_acc: %s' % (np.mean(losses), train_acc))\n",
    "    return model"
   ]
  },
  {
   "cell_type": "code",
   "execution_count": null,
   "metadata": {
    "collapsed": true
   },
   "outputs": [],
   "source": [
    "dset_train = GoogleVoiceDataset(ROOT, mfcc_sequence, mode='train')\n",
    "dset_val = GoogleVoiceDataset(ROOT, mfcc_sequence, mode='val')\n",
    "loader_train = DataLoader(dset_train, shuffle=True, batch_size=BATCH_SIZE)\n",
    "loader_val = DataLoader(dset_val, shuffle=True, batch_size=BATCH_SIZE)"
   ]
  },
  {
   "cell_type": "code",
   "execution_count": null,
   "metadata": {
    "collapsed": true
   },
   "outputs": [],
   "source": [
    "model = RNN(13, 256, dset_train.n_classes)\n",
    "optimizer = optim.Adam(model.parameters())\n",
    "criterion = nn.CrossEntropyLoss()"
   ]
  },
  {
   "cell_type": "code",
   "execution_count": null,
   "metadata": {
    "scrolled": true
   },
   "outputs": [],
   "source": [
    "model = train_model(model, optimizer, criterion, loader_train, loader_val)"
   ]
  },
  {
   "cell_type": "code",
   "execution_count": null,
   "metadata": {},
   "outputs": [],
   "source": [
    "dset_test = GoogleVoiceDataset(ROOT, mfcc_sequence, mode='test')\n",
    "loader_test = DataLoader(dset_val, shuffle=True, batch_size=BATCH_SIZE)\n",
    "print('test_acc: %s' % (get_set_accuracy(model, loader_test)))"
   ]
  },
  {
   "cell_type": "code",
   "execution_count": null,
   "metadata": {
    "collapsed": true
   },
   "outputs": [],
   "source": []
  }
 ],
 "metadata": {
  "kernelspec": {
   "display_name": "Python 3",
   "language": "python",
   "name": "python3"
  },
  "language_info": {
   "codemirror_mode": {
    "name": "ipython",
    "version": 3
   },
   "file_extension": ".py",
   "mimetype": "text/x-python",
   "name": "python",
   "nbconvert_exporter": "python",
   "pygments_lexer": "ipython3",
   "version": "3.6.1"
  }
 },
 "nbformat": 4,
 "nbformat_minor": 2
}
